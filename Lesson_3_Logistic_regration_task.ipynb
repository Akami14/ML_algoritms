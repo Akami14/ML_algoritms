{
 "cells": [
  {
   "cell_type": "markdown",
   "metadata": {
    "id": "-h6E40fAWNJT"
   },
   "source": [
    "### Урок 3. Классификация. Логистическая регрессия"
   ]
  },
  {
   "cell_type": "code",
   "execution_count": 1,
   "metadata": {
    "id": "zhwkeWtb1O0w"
   },
   "outputs": [],
   "source": [
    "import numpy as np\n",
    "import matplotlib.pyplot as plt"
   ]
  },
  {
   "cell_type": "code",
   "execution_count": 2,
   "metadata": {
    "id": "FeKFn2yb1To4"
   },
   "outputs": [],
   "source": [
    "X = np.array([[1, 1, 1, 1, 1, 1, 1, 1, 1, 1],\n",
    "              [1, 1, 2, 5, 3, 0, 5, 10, 1, 2],\n",
    "              [500, 700, 750, 600, 1450, 800, 1500, 2000, 450, 1000],\n",
    "              [1, 1, 2, 1, 2,  1, 3, 3, 1, 2]], dtype = np.float64)\n",
    "y = np.array([0, 0, 1, 0, 1, 0, 1, 0, 1, 1], dtype = np.float64)"
   ]
  },
  {
   "cell_type": "code",
   "execution_count": 3,
   "metadata": {
    "colab": {
     "base_uri": "https://localhost:8080/",
     "height": 155
    },
    "id": "yXSj4nbxHsFd",
    "outputId": "8d102d54-94bf-4acc-d5b8-d60da152b953"
   },
   "outputs": [
    {
     "data": {
      "text/plain": [
       "array([[1.00e+00, 1.00e+00, 1.00e+00, 1.00e+00, 1.00e+00, 1.00e+00,\n",
       "        1.00e+00, 1.00e+00, 1.00e+00, 1.00e+00],\n",
       "       [1.00e+00, 1.00e+00, 2.00e+00, 5.00e+00, 3.00e+00, 0.00e+00,\n",
       "        5.00e+00, 1.00e+01, 1.00e+00, 2.00e+00],\n",
       "       [5.00e+02, 7.00e+02, 7.50e+02, 6.00e+02, 1.45e+03, 8.00e+02,\n",
       "        1.50e+03, 2.00e+03, 4.50e+02, 1.00e+03],\n",
       "       [1.00e+00, 1.00e+00, 2.00e+00, 1.00e+00, 2.00e+00, 1.00e+00,\n",
       "        3.00e+00, 3.00e+00, 1.00e+00, 2.00e+00]])"
      ]
     },
     "execution_count": 3,
     "metadata": {},
     "output_type": "execute_result"
    }
   ],
   "source": [
    "X"
   ]
  },
  {
   "cell_type": "code",
   "execution_count": 4,
   "metadata": {
    "colab": {
     "base_uri": "https://localhost:8080/",
     "height": 34
    },
    "id": "QU0A16vZHugZ",
    "outputId": "71d74b95-77f4-41a7-e339-c9e7b2004e4b"
   },
   "outputs": [
    {
     "data": {
      "text/plain": [
       "array([0., 0., 1., 0., 1., 0., 1., 0., 1., 1.])"
      ]
     },
     "execution_count": 4,
     "metadata": {},
     "output_type": "execute_result"
    }
   ],
   "source": [
    "y"
   ]
  },
  {
   "cell_type": "code",
   "execution_count": 5,
   "metadata": {
    "id": "M-aO1NTxOUfo"
   },
   "outputs": [],
   "source": [
    "def calc_std_feat(x):\n",
    "    res = (x - x.mean()) / x.std()\n",
    "    return res"
   ]
  },
  {
   "cell_type": "code",
   "execution_count": 6,
   "metadata": {
    "id": "D8EL0iGJOVpe"
   },
   "outputs": [],
   "source": [
    "X_st = X.copy()\n",
    "X_st[2, :] = calc_std_feat(X[2, :])"
   ]
  },
  {
   "cell_type": "code",
   "execution_count": 7,
   "metadata": {
    "colab": {
     "base_uri": "https://localhost:8080/",
     "height": 155
    },
    "id": "gviMxz7EOuI3",
    "outputId": "af9a2576-f4d7-41d7-e216-46e0a068cfad"
   },
   "outputs": [
    {
     "data": {
      "text/plain": [
       "array([[ 1.        ,  1.        ,  1.        ,  1.        ,  1.        ,\n",
       "         1.        ,  1.        ,  1.        ,  1.        ,  1.        ],\n",
       "       [ 1.        ,  1.        ,  2.        ,  5.        ,  3.        ,\n",
       "         0.        ,  5.        , 10.        ,  1.        ,  2.        ],\n",
       "       [-0.97958969, -0.56713087, -0.46401617, -0.77336028,  0.97958969,\n",
       "        -0.36090146,  1.08270439,  2.11385144, -1.08270439,  0.05155735],\n",
       "       [ 1.        ,  1.        ,  2.        ,  1.        ,  2.        ,\n",
       "         1.        ,  3.        ,  3.        ,  1.        ,  2.        ]])"
      ]
     },
     "execution_count": 7,
     "metadata": {},
     "output_type": "execute_result"
    }
   ],
   "source": [
    "X_st"
   ]
  },
  {
   "cell_type": "code",
   "execution_count": 19,
   "metadata": {
    "id": "qMR5pOA38dDw"
   },
   "outputs": [],
   "source": [
    "def calc_logloss(y, y_pred):\n",
    "    err = - np.mean(y * np.log(y_pred) + (1.0 - y) * np.log(1.0 - y_pred))\n",
    "    err = np.sum(err)\n",
    "    return err"
   ]
  },
  {
   "cell_type": "code",
   "execution_count": 20,
   "metadata": {
    "colab": {
     "base_uri": "https://localhost:8080/",
     "height": 34
    },
    "id": "R6zfOHMrBvnX",
    "outputId": "46df0625-963f-4401-da30-b5b42bcf1be7"
   },
   "outputs": [
    {
     "data": {
      "text/plain": [
       "0.10536051565782628"
      ]
     },
     "execution_count": 20,
     "metadata": {},
     "output_type": "execute_result"
    }
   ],
   "source": [
    "# Пример применения\n",
    "y1 = np.array([1, 0])\n",
    "y_pred1 = np.array([0.9, 0.1])\n",
    "calc_logloss(y1, y_pred1)"
   ]
  },
  {
   "cell_type": "code",
   "execution_count": 10,
   "metadata": {
    "id": "EEF9rWPNDnss"
   },
   "outputs": [],
   "source": [
    "def sigmoid(z):\n",
    "    res = 1 / (1 + np.exp(-z))\n",
    "    return res"
   ]
  },
  {
   "cell_type": "code",
   "execution_count": 11,
   "metadata": {
    "id": "_9tN8lBEEeXU"
   },
   "outputs": [],
   "source": [
    "z = np.linspace(-10, 10, 101)"
   ]
  },
  {
   "cell_type": "code",
   "execution_count": 12,
   "metadata": {
    "id": "nvIe3RpbEp4l"
   },
   "outputs": [],
   "source": [
    "probabilities = sigmoid(z)"
   ]
  },
  {
   "cell_type": "code",
   "execution_count": 13,
   "metadata": {
    "colab": {
     "base_uri": "https://localhost:8080/",
     "height": 283
    },
    "id": "jQsCfht0Et1V",
    "outputId": "0c11fcdd-1cf9-49db-aaa7-4fa520ff840a"
   },
   "outputs": [
    {
     "data": {
      "image/png": "[encoded data removed]",
      "text/plain": [
       "<Figure size 640x480 with 1 Axes>"
      ]
     },
     "metadata": {},
     "output_type": "display_data"
    }
   ],
   "source": [
    "plt.plot(z, probabilities)\n",
    "plt.show()"
   ]
  },
  {
   "cell_type": "code",
   "execution_count": 14,
   "metadata": {
    "id": "e6TH-mkPItb6"
   },
   "outputs": [
    {
     "ename": "SyntaxError",
     "evalue": "invalid syntax (4094908863.py, line 1)",
     "output_type": "error",
     "traceback": [
      "\u001b[1;36m  File \u001b[1;32m\"C:\\Users\\user\\AppData\\Local\\Temp\\ipykernel_13148\\4094908863.py\"\u001b[1;36m, line \u001b[1;32m1\u001b[0m\n\u001b[1;33m    Logistic Regression\u001b[0m\n\u001b[1;37m             ^\u001b[0m\n\u001b[1;31mSyntaxError\u001b[0m\u001b[1;31m:\u001b[0m invalid syntax\n"
     ]
    }
   ],
   "source": [
    "Logistic Regression"
   ]
  },
  {
   "cell_type": "code",
   "execution_count": 73,
   "metadata": {
    "id": "qtgUN3LW-UIq"
   },
   "outputs": [],
   "source": [
    "def eval_model(X, y, iterations, alpha=1e-4):\n",
    "    np.random.seed(42)\n",
    "    W = np.random.randn(X.shape[0])\n",
    "    n = X.shape[1]\n",
    "    for i in range(1, iterations+1):\n",
    "        z = np.dot(W, X)\n",
    "        y_pred = sigmoid(z)\n",
    "        err = calc_logloss(y, y_pred)\n",
    "        W -= alpha * (1/n * np.dot((y_pred - y), X.T))\n",
    "        if i % (iterations / 10) == 0:\n",
    "            print(i, W, err)\n",
    "    return W"
   ]
  },
  {
   "cell_type": "code",
   "execution_count": 74,
   "metadata": {
    "colab": {
     "base_uri": "https://localhost:8080/",
     "height": 190
    },
    "id": "oqX7loklBmYZ",
    "outputId": "f4849295-1f14-40d8-c8f2-d1b002e130c5"
   },
   "outputs": [
    {
     "name": "stdout",
     "output_type": "stream",
     "text": [
      "500 [ 0.47822106 -0.20918419  0.64605995  1.49531432] 1.0559639161585663\n",
      "1000 [ 0.46074241 -0.27647603  0.64395686  1.46891696] 0.945214871179169\n",
      "1500 [ 0.44435675 -0.33951515  0.64152026  1.44406912] 0.8478360281905125\n",
      "2000 [ 0.42913461 -0.39751872  0.63899625  1.42106251] 0.7651177745022372\n",
      "2500 [ 0.41513888 -0.44956784  0.63671032  1.40023024] 0.6981293270105478\n",
      "3000 [ 0.40240136 -0.49488241  0.63498247  1.38184975] 0.6468813805442176\n",
      "3500 [ 0.39088925 -0.53321212  0.63401986  1.36601535] 0.6097021563515638\n",
      "4000 [ 0.38049869 -0.56497213  0.63387116  1.35259671] 0.5836774145473647\n",
      "4500 [ 0.37108342 -0.59102182  0.63446603  1.3413119 ] 0.5657147376221167\n",
      "5000 [ 0.36249064 -0.61234585  0.63568321  1.33183158] 0.5532737788236778\n"
     ]
    }
   ],
   "source": [
    "W = eval_model(X_st, y, iterations=5000, alpha=1e-4)"
   ]
  },
  {
   "cell_type": "markdown",
   "metadata": {
    "id": "MW4rVurIWNKE"
   },
   "source": [
    "## Практическое задание"
   ]
  },
  {
   "cell_type": "markdown",
   "metadata": {
    "id": "OrKTLjzpWNKF"
   },
   "source": [
    "1. Измените функцию calc_logloss так, чтобы нули по возможности не попадали в np.log.\n",
    "2. Подберите аргументы функции eval_model для логистической регрессии таким образом, чтобы log loss был минимальным.\n",
    "3. Создайте функцию calc_pred_proba, возвращающую предсказанную вероятность класса 1. На вход подаётся W, который уже посчитан функцией eval_model, и X, на выходе — массив y_pred_proba.\n",
    "4. Создайте функцию calc_pred, возвращающую предсказанный класс. На вход подаётся W, который уже посчитан функцией eval_model, и X, на выходе — массив y_pred.\n",
    "5. Посчитайте Accuracy, матрицу ошибок, точность и полноту, а также F1 score.\n",
    "6. Могла ли модель переобучиться? Почему?"
   ]
  },
  {
   "cell_type": "markdown",
   "metadata": {},
   "source": [
    "### 1. Измените функцию calc_logloss так, чтобы нули по возможности не попадали в np.log."
   ]
  },
  {
   "cell_type": "code",
   "execution_count": 186,
   "metadata": {},
   "outputs": [],
   "source": [
    "def calc_logloss(y, y_pred):\n",
    "    err = - np.mean(y * np.log(y_pred) + (1.0 - y) * np.log(1.0 - y_pred))\n",
    "    err = np.sum(err)\n",
    "    return err"
   ]
  },
  {
   "cell_type": "code",
   "execution_count": 266,
   "metadata": {
    "id": "jp0AQlnkRBWC"
   },
   "outputs": [],
   "source": [
    "from functools import reduce\n",
    "\n",
    "def calc_logloss_2(y, y_pred):\n",
    "    err_list = []\n",
    "    for y_preds in y_pred:\n",
    "        if  y_preds == 0.0:\n",
    "            err = - np.mean(y * np.log(1e-6) + (1.0 - y) * np.log(1.0 - y_preds))\n",
    "        elif y_preds == 1.0:\n",
    "            err = - np.mean(y * np.log(y_preds) + (1.0 - y) * np.log(1.0 - (1-1e-6)))\n",
    "        else:\n",
    "            err = - np.mean(y * np.log(y_preds) + (1.0 - y) * np.log(1.0 - y_preds))\n",
    "        err_list.append(err)\n",
    "    return sum(err_list)"
   ]
  },
  {
   "cell_type": "code",
   "execution_count": 267,
   "metadata": {},
   "outputs": [
    {
     "data": {
      "text/plain": [
       "21.92723864124359"
      ]
     },
     "execution_count": 267,
     "metadata": {},
     "output_type": "execute_result"
    }
   ],
   "source": [
    "y1 = np.array([1, 0, 1, 0])\n",
    "y_pred1 = np.array([0, 0.1, 1, 1])\n",
    "calc_logloss_2(y1, y_pred1)"
   ]
  },
  {
   "cell_type": "code",
   "execution_count": 282,
   "metadata": {},
   "outputs": [],
   "source": [
    "def calc_logloss_3(y, y_pred):\n",
    "    for y_preds in y_pred:\n",
    "        if  y_preds == 0.0:\n",
    "            err = - np.mean(y * np.log(1e-6) + (1.0 - y) * np.log(1.0 - 1e-6))\n",
    "        elif y_preds == 1.0:\n",
    "            err = - np.mean(y * np.log((1-1e-6)) + (1.0 - y) * np.log(1.0 - (1-1e-6)))\n",
    "        else:\n",
    "            err = - np.mean(y * np.log(y_preds) + (1.0 - y) * np.log(1.0 - y_preds))\n",
    "        yield err"
   ]
  },
  {
   "cell_type": "code",
   "execution_count": 283,
   "metadata": {
    "scrolled": true
   },
   "outputs": [
    {
     "data": {
      "text/plain": [
       "21.92724014124434"
      ]
     },
     "execution_count": 283,
     "metadata": {},
     "output_type": "execute_result"
    }
   ],
   "source": [
    "from functools import reduce\n",
    "err_list = []\n",
    "for el in calc_logloss_3(y1, y_pred1):\n",
    "    err_list.append(el)\n",
    "a = reduce(lambda x,y: x + y, err_list)\n",
    "a\n"
   ]
  },
  {
   "cell_type": "markdown",
   "metadata": {},
   "source": [
    "оптимизируем запуск избавимся от промежуточной структуры (списка)"
   ]
  },
  {
   "cell_type": "code",
   "execution_count": 270,
   "metadata": {},
   "outputs": [
    {
     "data": {
      "text/plain": [
       "21.92723864124359"
      ]
     },
     "execution_count": 270,
     "metadata": {},
     "output_type": "execute_result"
    }
   ],
   "source": [
    "from functools import reduce\n",
    "a = calc_logloss_3(y1, y_pred1)\n",
    "b = reduce(lambda x,y: x + y, a)\n",
    "b"
   ]
  },
  {
   "cell_type": "code",
   "execution_count": 271,
   "metadata": {},
   "outputs": [
    {
     "data": {
      "text/plain": [
       "21.92723864124359"
      ]
     },
     "execution_count": 271,
     "metadata": {},
     "output_type": "execute_result"
    }
   ],
   "source": [
    "calc_logloss_2(y1, y_pred1)"
   ]
  },
  {
   "cell_type": "code",
   "execution_count": 280,
   "metadata": {},
   "outputs": [],
   "source": [
    "def calc_logloss_4(y, y_pred):\n",
    "    min_value = 1e-6\n",
    "    max_value = 1-1e-6\n",
    "    y_pred = np.clip(y_pred, min_value, max_value) # clip заменит в масиве y_pred все максимальные и мин значения\n",
    "    err = - np.mean(y * np.log(y_pred) + (1.0 - y) * np.log(1.0 - y_pred))\n",
    "    return err"
   ]
  },
  {
   "cell_type": "code",
   "execution_count": 281,
   "metadata": {},
   "outputs": [
    {
     "data": {
      "text/plain": [
       "6.93409565788953"
      ]
     },
     "execution_count": 281,
     "metadata": {},
     "output_type": "execute_result"
    }
   ],
   "source": [
    "calc_logloss_4(y1, y_pred1)"
   ]
  },
  {
   "cell_type": "code",
   "execution_count": 279,
   "metadata": {},
   "outputs": [
    {
     "data": {
      "text/plain": [
       "(array([0. , 0.1, 1. , 1. ]), array([0., 0., 1., 0., 1., 0., 1., 0., 1., 1.]))"
      ]
     },
     "execution_count": 279,
     "metadata": {},
     "output_type": "execute_result"
    }
   ],
   "source": [
    "y_pred1, y"
   ]
  },
  {
   "cell_type": "markdown",
   "metadata": {},
   "source": [
    "### 2. Подберите аргументы функции eval_model для логистической регрессии таким образом, чтобы log loss был минимальным.\n"
   ]
  },
  {
   "cell_type": "code",
   "execution_count": 242,
   "metadata": {},
   "outputs": [],
   "source": [
    "def eval_model_2(X, y, iterations, alpha=1e-4):\n",
    "    err_dict = {}\n",
    "    np.random.seed(42)\n",
    "    W = np.random.randn(X.shape[0])\n",
    "    n = X.shape[1]\n",
    "    for i in range(1, iterations+1):\n",
    "        z = np.dot(W, X)\n",
    "        y_pred = sigmoid(z)\n",
    "        err = calc_logloss_4(y, y_pred)\n",
    "        W -= alpha * (1/n * np.dot((y_pred - y), X.T))\n",
    "        if i % (iterations / 10) == 0:\n",
    "            #print(f'\\tитерация - {i}\\n\\tвеса - {W}\\n\\tошибка - {err}')\n",
    "            err_dict[i] = err \n",
    "    return W, err_dict"
   ]
  },
  {
   "cell_type": "code",
   "execution_count": 243,
   "metadata": {},
   "outputs": [
    {
     "name": "stdout",
     "output_type": "stream",
     "text": [
      "АЛЬФА -  0.0001\n",
      "{10: 4.605220188488314, 20: 4.605220188488258, 30: 1.095896023553595, 40: 2.2677993084247836, 50: 1.5684748329774734, 60: 1.3356515644399312, 70: 2.2491276481764615, 80: 1.3681553672626143, 90: 1.4797546793098797, 100: 1.082463834863993}\n",
      "АЛЬФА -  0.0002\n",
      "{10: 4.605222375189453, 20: 4.605220188488314, 30: 4.605220188488258, 40: 1.181368988942523, 50: 4.605220188488258, 60: 4.36155333650394, 70: 4.605220188488314, 80: 4.605220188488314, 90: 4.605220188488314, 100: 0.9280796811489094}\n",
      "АЛЬФА -  0.00030000000000000003\n",
      "{10: 3.0723382159453942, 20: 4.605220188488314, 30: 4.605220188488258, 40: 4.579435663680398, 50: 4.605220188488314, 60: 4.605220188488314, 70: 4.605220188488258, 80: 4.605220188488314, 90: 4.605220188488314, 100: 4.605220188488258}\n",
      "АЛЬФА -  0.0004\n",
      "{10: 4.605220188488314, 20: 4.605220188488258, 30: 4.605220188488314, 40: 4.605220188488314, 50: 4.605220188488258, 60: 4.605220188488314, 70: 4.605220188488314, 80: 4.605220188488258, 90: 4.110419022169256, 100: 4.605220188488314}\n",
      "АЛЬФА -  0.0005\n",
      "{10: 4.605220188488314, 20: 4.605220188488314, 30: 4.605220188488258, 40: 4.605220188488258, 50: 4.605220188488314, 60: 4.605220188488258, 70: 1.006282329373653, 80: 4.605220188488314, 90: 4.605220188488258, 100: 4.605220188488258}\n",
      "АЛЬФА -  0.0006000000000000001\n",
      "{10: 4.605220188488258, 20: 4.605220188488314, 30: 4.605220188488314, 40: 4.605220188488258, 50: 1.3205124487361355, 60: 4.605220188488314, 70: 4.605220188488314, 80: 4.605220188488258, 90: 4.605220188488314, 100: 4.605220188488314}\n",
      "АЛЬФА -  0.0007000000000000001\n",
      "{10: 4.605220188488258, 20: 1.7306827636308522, 30: 4.605220188488314, 40: 4.605220188488314, 50: 4.605220188488258, 60: 1.0537191391316, 70: 4.605220188488314, 80: 4.605220188488314, 90: 4.605220188488258, 100: 4.605220188488258}\n",
      "АЛЬФА -  0.0008\n",
      "{10: 4.605220188488258, 20: 4.605220188488258, 30: 4.605220188488314, 40: 4.605220188488314, 50: 4.605220188488258, 60: 4.605220188488314, 70: 4.605220188488314, 80: 4.605220188488258, 90: 4.605220188488258, 100: 4.605220188488314}\n",
      "АЛЬФА -  0.0009000000000000001\n",
      "{10: 4.605220188488314, 20: 4.605220188488258, 30: 4.605220188488314, 40: 4.605220188488314, 50: 4.605220188488258, 60: 3.27890013589014, 70: 4.605220188488314, 80: 4.605220188488258, 90: 4.605220188488258, 100: 4.605220188488258}\n",
      "АЛЬФА -  0.001\n",
      "{10: 4.605220188488314, 20: 4.605220188488258, 30: 1.9459617944701921, 40: 4.605220188488314, 50: 4.605220188488314, 60: 4.605220188488258, 70: 4.53897123408999, 80: 4.605220188488314, 90: 4.605220188488258, 100: 4.605220188488258}\n",
      "АЛЬФА -  0.0011\n",
      "{10: 4.605220188488314, 20: 4.605220188488258, 30: 4.605220188488314, 40: 4.605220188488314, 50: 4.605220188488258, 60: 4.605220188488314, 70: 4.605220188488258, 80: 4.605220188488258, 90: 4.605220188488314, 100: 4.605220188488314}\n",
      "АЛЬФА -  0.0012000000000000001\n",
      "{10: 4.605220188488314, 20: 4.605220188488258, 30: 4.605220188488258, 40: 4.605220188488314, 50: 4.605220188488314, 60: 4.605220188488258, 70: 1.77760353438359, 80: 4.605220188488314, 90: 4.605220188488258, 100: 4.605220188488258}\n",
      "АЛЬФА -  0.0013000000000000002\n",
      "{10: 4.605220188488314, 20: 4.605220188488258, 30: 4.605220188488258, 40: 4.605220188488258, 50: 4.605220188488258, 60: 4.605220188488314, 70: 4.605220188488314, 80: 4.605220188488258, 90: 4.605220188488314, 100: 4.605220188488314}\n",
      "АЛЬФА -  0.0014000000000000002\n",
      "{10: 4.605220188488314, 20: 4.605220188488314, 30: 4.605220188488258, 40: 4.605220188488314, 50: 4.605220188488314, 60: 4.605220188488258, 70: 4.605220188488258, 80: 4.605220188488314, 90: 4.605220188488314, 100: 4.605220188488258}\n",
      "АЛЬФА -  0.0015\n",
      "{10: 4.605220188488314, 20: 4.605220188488314, 30: 4.605220188488258, 40: 4.605220188488314, 50: 4.605220188488314, 60: 4.605220188488258, 70: 4.605220188488258, 80: 4.605220188488314, 90: 4.605220188488314, 100: 4.605220188488258}\n",
      "АЛЬФА -  0.0016\n",
      "{10: 4.605220188488314, 20: 4.605220188488258, 30: 4.605220188488258, 40: 4.605220188488314, 50: 4.605220188488314, 60: 4.605220188488258, 70: 4.605220188488258, 80: 4.605220188488314, 90: 4.605220188488314, 100: 4.605220188488258}\n",
      "АЛЬФА -  0.0017000000000000001\n",
      "{10: 4.605220188488314, 20: 4.605220188488314, 30: 4.605220188488258, 40: 4.091356957701256, 50: 4.605220188488314, 60: 4.605220188488258, 70: 4.605220188488258, 80: 4.605220188488314, 90: 4.605220188488314, 100: 4.605220188488258}\n",
      "АЛЬФА -  0.0018000000000000002\n",
      "{10: 4.605220188488314, 20: 4.605220188488314, 30: 4.605220188488258, 40: 4.605220188488258, 50: 4.605220188488314, 60: 4.605220188488258, 70: 4.605220188488258, 80: 4.605220188488314, 90: 4.605220188488314, 100: 4.605220188488258}\n",
      "АЛЬФА -  0.0019000000000000002\n",
      "{10: 4.605220188488314, 20: 4.605220188488314, 30: 4.605220188488258, 40: 4.605220188488258, 50: 4.605220188488314, 60: 4.605220188488314, 70: 4.605220188488258, 80: 4.605220188488314, 90: 4.605220188488314, 100: 4.605220188488258}\n",
      "АЛЬФА -  0.002\n",
      "{10: 4.605220188488314, 20: 4.605220188488314, 30: 4.605220188488258, 40: 4.605220188488258, 50: 4.605220188488314, 60: 4.605220188488314, 70: 4.605220188488258, 80: 4.605220188488314, 90: 4.605220188488314, 100: 4.605220188488258}\n",
      "АЛЬФА -  0.0021\n",
      "{10: 4.605220188488314, 20: 4.605220188488314, 30: 4.605220188488258, 40: 4.605220188488258, 50: 4.605220188488314, 60: 4.605220188488314, 70: 4.605220188488258, 80: 4.605220188488314, 90: 4.605220188488314, 100: 4.605220188488258}\n",
      "АЛЬФА -  0.0022\n",
      "{10: 4.605220188488314, 20: 4.605220188488258, 30: 4.605220188488258, 40: 4.605220188488314, 50: 4.605220188488258, 60: 4.605220188488314, 70: 4.605220188488314, 80: 4.605220188488258, 90: 4.605220188488258, 100: 4.605220188488314}\n",
      "АЛЬФА -  0.0023\n",
      "{10: 4.605220188488314, 20: 4.605220188488314, 30: 4.605220188488258, 40: 4.605220188488258, 50: 4.605220188488314, 60: 4.605220188488314, 70: 4.605220188488258, 80: 4.605220188488314, 90: 4.605220188488314, 100: 4.605220188488258}\n",
      "АЛЬФА -  0.0024\n",
      "{10: 4.605220188488314, 20: 4.605220188488314, 30: 4.605220188488258, 40: 4.605220188488258, 50: 4.605220188488314, 60: 4.605220188488314, 70: 4.605220188488258, 80: 4.337162942199379, 90: 4.605220188488314, 100: 4.605220188488258}\n",
      "АЛЬФА -  0.0025\n",
      "{10: 4.605220188488314, 20: 4.605220188488314, 30: 4.605220188488314, 40: 4.605220188488314, 50: 4.605220188488258, 60: 4.605220188488258, 70: 4.605220188488314, 80: 4.605220188488314, 90: 4.605220188488258, 100: 4.605220188488314}\n",
      "АЛЬФА -  0.0026\n",
      "{10: 4.605220188488314, 20: 4.605220188488314, 30: 4.605220188488258, 40: 4.605220188488258, 50: 4.605220188488314, 60: 4.605220188488314, 70: 4.605220188488258, 80: 4.605220188488258, 90: 4.605220188488314, 100: 4.605220188488258}\n",
      "АЛЬФА -  0.0027\n",
      "{10: 1.0399287340348298, 20: 4.605220188488314, 30: 4.605220188488258, 40: 4.605220188488258, 50: 4.605220188488314, 60: 4.605220188488314, 70: 4.605220188488258, 80: 4.605220188488314, 90: 4.605220188488314, 100: 4.605220188488258}\n",
      "АЛЬФА -  0.0028\n",
      "{10: 4.590989495903946, 20: 4.605220188488314, 30: 4.605220188488258, 40: 4.605220188488258, 50: 4.605220188488314, 60: 4.605220188488314, 70: 4.605220188488258, 80: 4.605220188488258, 90: 4.605220188488314, 100: 4.605220188488258}\n",
      "АЛЬФА -  0.0029\n",
      "{10: 4.605220188488258, 20: 4.605220188488314, 30: 4.605220188488258, 40: 4.605220188488258, 50: 4.605220188488258, 60: 4.605220188488314, 70: 4.605220188488258, 80: 4.605220188488258, 90: 4.605220188488314, 100: 4.605220188488314}\n",
      "АЛЬФА -  0.003\n",
      "{10: 4.605220188488258, 20: 4.605220188488314, 30: 4.605220188488258, 40: 4.605220188488258, 50: 4.605220188488314, 60: 4.605220188488314, 70: 4.605220188488258, 80: 4.605220188488258, 90: 4.605220188488314, 100: 4.605220188488314}\n",
      "АЛЬФА -  0.0031\n",
      "{10: 4.605220188488258, 20: 4.605220188488314, 30: 4.605220188488258, 40: 4.605220188488258, 50: 4.605220188488314, 60: 4.605220188488314, 70: 4.605220188488258, 80: 4.605220188488258, 90: 4.605220188488258, 100: 4.605220188488314}\n",
      "АЛЬФА -  0.0032\n",
      "{10: 4.605220188488258, 20: 4.605220188488314, 30: 4.605220188488314, 40: 4.605220188488258, 50: 4.605220188488314, 60: 4.605220188488314, 70: 4.605220188488258, 80: 4.605220188488258, 90: 4.605220188488314, 100: 4.605220188488314}\n",
      "АЛЬФА -  0.0033\n",
      "{10: 4.605220188488258, 20: 4.605220188488314, 30: 4.605220188488314, 40: 4.605220188488258, 50: 4.605220188488314, 60: 4.605220188488314, 70: 4.605220188488258, 80: 4.605220188488258, 90: 4.605220188488314, 100: 4.605220188488314}\n",
      "АЛЬФА -  0.0034\n",
      "{10: 4.605220188488258, 20: 4.605220188488314, 30: 4.605220188488314, 40: 4.605220188488258, 50: 4.605220188488314, 60: 4.605220188488314, 70: 4.605220188488258, 80: 4.605220188488258, 90: 4.605220188488314, 100: 4.605220188488314}\n",
      "АЛЬФА -  0.0035\n",
      "{10: 4.605220188488258, 20: 4.605220188488314, 30: 4.605220188488258, 40: 4.605220188488258, 50: 4.605220188488314, 60: 4.605220188488314, 70: 4.605220188488258, 80: 4.605220188488258, 90: 4.605220188488314, 100: 4.605220188488258}\n",
      "АЛЬФА -  0.0036\n",
      "{10: 4.605220188488258, 20: 4.605220188488314, 30: 4.605220188488314, 40: 4.605220188488258, 50: 4.605220188488314, 60: 4.605220188488314, 70: 4.605220188488258, 80: 4.605220188488258, 90: 4.605220188488314, 100: 4.605220188488314}\n",
      "АЛЬФА -  0.0037\n",
      "{10: 4.605220188488258, 20: 4.605220188488314, 30: 4.605220188488314, 40: 4.605220188488258, 50: 4.605220188488314, 60: 4.605220188488314, 70: 4.605220188488258, 80: 4.605220188488258, 90: 4.605220188488314, 100: 4.605220188488314}\n",
      "АЛЬФА -  0.0038\n",
      "{10: 4.605220188488258, 20: 4.605220188488314, 30: 4.605220188488314, 40: 4.605220188488258, 50: 4.605220188488314, 60: 4.605220188488314, 70: 4.605220188488258, 80: 4.605220188488258, 90: 4.605220188488314, 100: 4.605220188488314}\n",
      "АЛЬФА -  0.0039\n",
      "{10: 4.605220188488258, 20: 4.605220188488314, 30: 4.605220188488314, 40: 4.605220188488258, 50: 4.605220188488314, 60: 4.605220188488314, 70: 4.605220188488258, 80: 4.605220188488258, 90: 4.605220188488314, 100: 4.605220188488314}\n",
      "АЛЬФА -  0.004\n",
      "{10: 4.605220188488258, 20: 4.605220188488314, 30: 4.605220188488314, 40: 4.605220188488258, 50: 4.605220188488314, 60: 4.605220188488314, 70: 4.605220188488258, 80: 4.605220188488258, 90: 4.605220188488314, 100: 4.605220188488314}\n",
      "АЛЬФА -  0.0041\n",
      "{10: 4.605220188488258, 20: 4.605220188488314, 30: 4.605220188488314, 40: 4.605220188488258, 50: 4.605220188488314, 60: 4.605220188488314, 70: 4.605220188488258, 80: 4.605220188488258, 90: 4.605220188488314, 100: 4.605220188488314}\n",
      "АЛЬФА -  0.004200000000000001\n",
      "{10: 4.605220188488258, 20: 4.605220188488314, 30: 4.605220188488314, 40: 4.605220188488258, 50: 4.605220188488314, 60: 4.605220188488314, 70: 4.605220188488258, 80: 4.605220188488258, 90: 4.605220188488258, 100: 4.605220188488314}\n",
      "АЛЬФА -  0.004300000000000001\n",
      "{10: 4.605220188488258, 20: 4.605220188488314, 30: 4.605220188488314, 40: 4.605220188488258, 50: 4.605220188488314, 60: 4.605220188488314, 70: 4.605220188488258, 80: 4.605220188488258, 90: 4.605220188488314, 100: 4.605220188488314}\n",
      "АЛЬФА -  0.0044\n",
      "{10: 4.605220188488258, 20: 4.605220188488314, 30: 4.605220188488314, 40: 4.605220188488258, 50: 4.605220188488314, 60: 4.605220188488314, 70: 4.605220188488258, 80: 4.605220188488258, 90: 4.605220188488314, 100: 4.605220188488314}\n",
      "АЛЬФА -  0.0045000000000000005\n",
      "{10: 4.605220188488258, 20: 4.605220188488314, 30: 4.605220188488314, 40: 4.605220188488258, 50: 4.605220188488314, 60: 4.605220188488314, 70: 4.605220188488258, 80: 4.605220188488258, 90: 4.605220188488314, 100: 4.605220188488314}\n",
      "АЛЬФА -  0.004600000000000001\n",
      "{10: 4.605220188488258, 20: 4.605220188488314, 30: 4.605220188488314, 40: 4.605220188488258, 50: 4.605220188488314, 60: 4.605220188488314, 70: 4.605220188488258, 80: 4.605220188488258, 90: 4.605220188488314, 100: 4.605220188488314}\n",
      "АЛЬФА -  0.0047\n",
      "{10: 4.605220188488258, 20: 4.605220188488314, 30: 4.605220188488314, 40: 4.605220188488258, 50: 4.605220188488314, 60: 4.605220188488314, 70: 4.605220188488258, 80: 4.605220188488258, 90: 4.605220188488314, 100: 4.605220188488314}\n",
      "АЛЬФА -  0.0048000000000000004\n",
      "{10: 4.605220188488258, 20: 4.605220188488314, 30: 4.605220188488314, 40: 4.605220188488258, 50: 4.605220188488314, 60: 4.605220188488314, 70: 4.605220188488258, 80: 4.605220188488258, 90: 4.605220188488314, 100: 4.605220188488258}\n",
      "АЛЬФА -  0.004900000000000001\n",
      "{10: 4.605220188488258, 20: 4.605220188488314, 30: 4.605220188488314, 40: 4.605220188488258, 50: 4.605220188488314, 60: 4.605220188488314, 70: 4.605220188488258, 80: 4.605220188488258, 90: 4.605220188488314, 100: 4.605220188488314}\n",
      "АЛЬФА -  0.005\n",
      "{10: 4.605220188488258, 20: 4.605220188488258, 30: 4.605220188488258, 40: 4.605220188488314, 50: 4.605220188488314, 60: 4.605220188488258, 70: 4.605220188488314, 80: 4.605220188488314, 90: 4.605220188488258, 100: 4.605220188488258}\n",
      "АЛЬФА -  0.0051\n",
      "{10: 4.605220188488258, 20: 4.605220188488314, 30: 4.605220188488314, 40: 4.605220188488258, 50: 4.605220188488314, 60: 4.605220188488314, 70: 4.605220188488258, 80: 4.605220188488258, 90: 4.605220188488314, 100: 4.605220188488314}\n",
      "АЛЬФА -  0.005200000000000001\n",
      "{10: 4.605220188488258, 20: 4.605220188488314, 30: 4.605220188488314, 40: 4.605220188488258, 50: 4.605220188488314, 60: 4.605220188488314, 70: 4.605220188488258, 80: 4.605220188488258, 90: 4.605220188488314, 100: 4.605220188488314}\n",
      "АЛЬФА -  0.005300000000000001\n",
      "{10: 4.605220188488258, 20: 4.605220188488314, 30: 4.605220188488314, 40: 4.605220188488258, 50: 4.605220188488314, 60: 4.605220188488314, 70: 4.605220188488258, 80: 4.605220188488258, 90: 4.605220188488314, 100: 4.605220188488314}\n",
      "АЛЬФА -  0.0054\n"
     ]
    },
    {
     "name": "stderr",
     "output_type": "stream",
     "text": [
      "C:\\Users\\user\\AppData\\Local\\Temp\\ipykernel_13148\\2870899410.py:2: RuntimeWarning: overflow encountered in exp\n",
      "  res = 1 / (1 + np.exp(-z))\n"
     ]
    },
    {
     "name": "stdout",
     "output_type": "stream",
     "text": [
      "{10: 4.605220188488258, 20: 4.605220188488314, 30: 4.605220188488314, 40: 4.605220188488258, 50: 4.605220188488314, 60: 4.605220188488314, 70: 4.605220188488258, 80: 4.605220188488258, 90: 4.605220188488314, 100: 4.605220188488314}\n",
      "АЛЬФА -  0.0055000000000000005\n",
      "{10: 4.605220188488258, 20: 4.605220188488314, 30: 4.605220188488314, 40: 4.605220188488258, 50: 4.60522759749748, 60: 4.605220188488314, 70: 4.605220188488258, 80: 4.605220188488258, 90: 4.605220188488314, 100: 4.605220188488314}\n",
      "АЛЬФА -  0.005600000000000001\n",
      "{10: 4.605220188488258, 20: 4.605220188488314, 30: 4.605220188488314, 40: 4.605220188488258, 50: 2.554532403912507, 60: 4.605220188488314, 70: 4.605220188488258, 80: 4.605220188488258, 90: 4.605220188488314, 100: 4.605220188488314}\n",
      "АЛЬФА -  0.0057\n",
      "{10: 4.605220188488258, 20: 4.605220188488314, 30: 4.605220188488314, 40: 4.605220188488258, 50: 2.5565047732053734, 60: 4.605220188488314, 70: 4.605220188488258, 80: 4.605220188488258, 90: 4.605220188488314, 100: 4.605220188488314}\n",
      "АЛЬФА -  0.0058000000000000005\n",
      "{10: 4.605220188488258, 20: 4.605220188488314, 30: 4.605220188488314, 40: 4.605220188488258, 50: 4.37156693841032, 60: 4.605220188488314, 70: 4.605220188488258, 80: 4.605220188488258, 90: 4.605220188488314, 100: 4.605220188488314}\n",
      "АЛЬФА -  0.005900000000000001\n",
      "{10: 4.605220188488258, 20: 4.605220188488314, 30: 4.605220188488314, 40: 4.605220188488258, 50: 4.605220188488258, 60: 4.605220188488314, 70: 4.605220188488258, 80: 4.605220188488258, 90: 4.605220188488314, 100: 4.605220188488314}\n",
      "АЛЬФА -  0.006\n",
      "{10: 4.605220188488258, 20: 4.605220188488314, 30: 4.605220188488314, 40: 4.605220188488258, 50: 4.605220188488258, 60: 4.605220188488314, 70: 4.605220188488258, 80: 4.605220188488258, 90: 4.605220188488314, 100: 4.605220188488314}\n",
      "АЛЬФА -  0.0061\n",
      "{10: 4.605220188488258, 20: 4.605220188488314, 30: 4.605220188488314, 40: 4.605220188488258, 50: 4.605220188488258, 60: 4.605220188488314, 70: 4.605220188488258, 80: 4.605220188488258, 90: 4.605220188488314, 100: 4.605220188488314}\n",
      "АЛЬФА -  0.006200000000000001\n",
      "{10: 4.605220188488258, 20: 4.605220188488314, 30: 4.605220188488314, 40: 4.605220188488258, 50: 4.605220188488258, 60: 4.605220188488314, 70: 4.605220188488258, 80: 4.605220188488258, 90: 4.605220188488314, 100: 4.605220188488314}\n",
      "АЛЬФА -  0.006300000000000001\n",
      "{10: 4.605220188488258, 20: 4.605220188488314, 30: 4.605220188488314, 40: 4.605220188488258, 50: 4.605220188488258, 60: 4.605220188488314, 70: 4.605220188488258, 80: 4.605220188488258, 90: 4.605220188488314, 100: 4.605220188488314}\n",
      "АЛЬФА -  0.0064\n",
      "{10: 4.605220188488258, 20: 4.605220188488314, 30: 4.605220188488314, 40: 4.605220188488258, 50: 4.605220188488258, 60: 4.605220188488314, 70: 4.605220188488258, 80: 4.605220188488258, 90: 4.605220188488314, 100: 4.605220188488314}\n",
      "АЛЬФА -  0.006500000000000001\n",
      "{10: 4.605220188488258, 20: 4.605220188488314, 30: 4.605220188488314, 40: 4.605220188488258, 50: 4.605220188488258, 60: 4.605220188488314, 70: 4.605220188488258, 80: 4.605220188488258, 90: 4.605220188488258, 100: 4.605220188488258}\n",
      "АЛЬФА -  0.006600000000000001\n",
      "{10: 4.605220188488258, 20: 4.605220188488314, 30: 4.605220188488314, 40: 4.605220188488258, 50: 4.605220188488258, 60: 4.605220188488314, 70: 4.605220188488258, 80: 4.605220188488258, 90: 4.605220188488314, 100: 4.605220188488314}\n",
      "АЛЬФА -  0.0067\n",
      "{10: 4.605220188488258, 20: 4.605220188488314, 30: 4.605220188488314, 40: 4.605220188488258, 50: 4.605220188488258, 60: 4.605220188488314, 70: 4.605220188488258, 80: 4.605220188488258, 90: 4.605220188488314, 100: 4.605220188488314}\n",
      "АЛЬФА -  0.0068000000000000005\n",
      "{10: 4.605220188488258, 20: 4.605220188488314, 30: 4.605220188488314, 40: 4.605220188488258, 50: 4.605229056163683, 60: 4.605220188488314, 70: 4.605220188488258, 80: 4.605220188488258, 90: 4.605220188488314, 100: 4.605220188488314}\n",
      "АЛЬФА -  0.006900000000000001\n",
      "{10: 4.605220188488258, 20: 4.605220188488314, 30: 4.605220188488314, 40: 4.605220188488258, 50: 4.605220188488258, 60: 4.605220188488314, 70: 4.605220188488314, 80: 4.605220188488258, 90: 4.605220188488314, 100: 4.605220188488314}\n",
      "АЛЬФА -  0.007000000000000001\n",
      "{10: 4.605220188488258, 20: 4.605220188488314, 30: 4.605220188488314, 40: 4.605220188488258, 50: 4.605220188488258, 60: 4.605220188488314, 70: 4.605220188488258, 80: 4.605220188488258, 90: 4.605220188488314, 100: 4.605220188488314}\n",
      "АЛЬФА -  0.0071\n",
      "{10: 4.605220188488258, 20: 4.605220188488314, 30: 4.605220188488314, 40: 4.605220188488258, 50: 4.605220188488258, 60: 4.605220188488314, 70: 4.605220188488258, 80: 4.605220188488258, 90: 4.605220188488314, 100: 4.605220188488314}\n",
      "АЛЬФА -  0.007200000000000001\n",
      "{10: 4.605220188488258, 20: 4.605220188488314, 30: 4.605220188488314, 40: 4.605220188488258, 50: 4.605220188488258, 60: 4.605220188488314, 70: 4.605220188488258, 80: 4.605220188488258, 90: 4.605220188488314, 100: 4.605220188488314}\n",
      "АЛЬФА -  0.007300000000000001\n",
      "{10: 4.605220188488258, 20: 4.605220188488314, 30: 4.605220188488314, 40: 4.605220188488258, 50: 4.605220188488258, 60: 4.605220188488314, 70: 4.605220188488258, 80: 4.605220188488258, 90: 4.605220188488314, 100: 4.605220188488314}\n",
      "АЛЬФА -  0.0074\n",
      "{10: 4.605220188488258, 20: 4.605220188488314, 30: 4.605220188488314, 40: 4.605220188488258, 50: 4.605220188488258, 60: 4.605220188488314, 70: 4.605220188488258, 80: 4.605220188488258, 90: 4.605220188488314, 100: 4.605220188488314}\n",
      "АЛЬФА -  0.007500000000000001\n",
      "{10: 4.605220188488258, 20: 4.605220188488314, 30: 4.605220188488314, 40: 4.605220188488258, 50: 4.605220188488258, 60: 4.605220188488314, 70: 4.605220188488258, 80: 4.605220188488258, 90: 4.605220188488314, 100: 4.605220188488314}\n",
      "АЛЬФА -  0.007600000000000001\n",
      "{10: 4.605220188488258, 20: 4.605220188488314, 30: 4.605220188488314, 40: 4.605220188488258, 50: 4.605220188488258, 60: 4.605220188488314, 70: 4.605220188488258, 80: 4.605220188488258, 90: 4.605220188488314, 100: 4.605220188488314}\n",
      "АЛЬФА -  0.0077\n",
      "{10: 4.605220188488258, 20: 4.605220188488314, 30: 4.605220188488314, 40: 4.605220188488258, 50: 4.605220188488258, 60: 4.605220188488314, 70: 4.605220188488258, 80: 4.605220188488258, 90: 4.605220188488314, 100: 4.605220188488314}\n",
      "АЛЬФА -  0.0078000000000000005\n",
      "{10: 4.605220188488258, 20: 4.605220188488314, 30: 4.605220188488314, 40: 4.605220188488258, 50: 4.605220188488258, 60: 4.605220188488314, 70: 4.605220188488258, 80: 4.605220188488258, 90: 4.605220188488314, 100: 4.605220188488314}\n",
      "АЛЬФА -  0.0079\n",
      "{10: 4.605220188488258, 20: 4.605220188488314, 30: 4.605220188488314, 40: 4.605220188488258, 50: 4.605220188488258, 60: 4.605220188488314, 70: 4.605220188488258, 80: 4.605220188488258, 90: 4.605220188488314, 100: 4.605220188488314}\n",
      "АЛЬФА -  0.008\n",
      "{10: 4.605220188488258, 20: 4.605220188488314, 30: 4.605220188488314, 40: 4.605220188488258, 50: 4.605220188488258, 60: 4.605220188488314, 70: 4.605220188488258, 80: 4.605220188488258, 90: 4.605220188488314, 100: 4.605220188488314}\n",
      "АЛЬФА -  0.0081\n",
      "{10: 4.605220188488258, 20: 4.605220188488314, 30: 4.605220188488314, 40: 4.605220188488258, 50: 4.605220188488258, 60: 4.605220188488314, 70: 4.605220188488258, 80: 4.605220188488258, 90: 4.605220188488314, 100: 4.605220188488314}\n",
      "АЛЬФА -  0.008199999999999999\n",
      "{10: 4.605220188488258, 20: 4.605220188488314, 30: 4.605220188488314, 40: 4.605220188488258, 50: 4.605220188488258, 60: 4.605220188488314, 70: 4.605220188488314, 80: 4.605220188488258, 90: 4.605220188488314, 100: 4.605220188488314}\n",
      "АЛЬФА -  0.0083\n",
      "{10: 4.605220188488258, 20: 4.605220188488314, 30: 4.605220188488314, 40: 4.605220188488258, 50: 4.605220188488258, 60: 4.605220188488314, 70: 4.605220188488314, 80: 4.605220188488258, 90: 4.605220188488314, 100: 4.605220188488314}\n",
      "АЛЬФА -  0.0084\n",
      "{10: 4.605220188488258, 20: 4.605220188488314, 30: 4.605220188488314, 40: 4.605220188488258, 50: 4.605220188488258, 60: 4.605220188488314, 70: 4.605220188488314, 80: 4.605220188488258, 90: 4.605220188488314, 100: 4.605220188488314}\n",
      "АЛЬФА -  0.0085\n",
      "{10: 4.605220188488258, 20: 4.605220188488314, 30: 4.605220188488314, 40: 4.605220188488258, 50: 4.605220188488258, 60: 4.605220188488314, 70: 4.605220188488314, 80: 4.605220188488258, 90: 4.605220188488314, 100: 4.605220188488314}\n",
      "АЛЬФА -  0.0086\n",
      "{10: 4.605220188488258, 20: 4.605220188488314, 30: 4.605220188488314, 40: 4.605220188488258, 50: 4.605220188488258, 60: 4.605220188488314, 70: 4.605220188488258, 80: 4.605220188488258, 90: 4.605220188488314, 100: 4.605220188488314}\n",
      "АЛЬФА -  0.0087\n",
      "{10: 4.605220188488258, 20: 4.605220188488258, 30: 4.605220188488314, 40: 4.605220188488258, 50: 4.605220188488258, 60: 4.605220188488314, 70: 4.605220188488314, 80: 4.605220188488258, 90: 4.605220188488258, 100: 4.605220188488314}\n",
      "АЛЬФА -  0.0088\n",
      "{10: 4.605220188488258, 20: 4.605220188488314, 30: 4.605220188488314, 40: 4.605220188488258, 50: 4.605220188488258, 60: 4.605220188488314, 70: 4.605220188488314, 80: 4.605220188488258, 90: 4.605220188488314, 100: 4.605220188488314}\n",
      "АЛЬФА -  0.0089\n",
      "{10: 4.605220188488258, 20: 4.605220188488314, 30: 4.605220188488314, 40: 4.605220188488258, 50: 4.605220188488258, 60: 4.605220188488314, 70: 4.605220188488314, 80: 4.605220188488258, 90: 4.605220188488314, 100: 4.605220188488314}\n",
      "АЛЬФА -  0.009\n",
      "{10: 4.605220188488258, 20: 4.605220188488314, 30: 4.605220188488314, 40: 4.605220188488258, 50: 4.605220188488258, 60: 4.605220188488314, 70: 4.605220188488314, 80: 4.605220188488258, 90: 4.605220188488314, 100: 4.605220188488314}\n",
      "АЛЬФА -  0.0091\n",
      "{10: 4.605220188488258, 20: 4.605220188488314, 30: 4.605220188488314, 40: 4.605220188488258, 50: 4.605220188488258, 60: 4.605220188488314, 70: 4.605220188488314, 80: 4.605220188488258, 90: 4.605220188488314, 100: 4.605220188488314}\n",
      "АЛЬФА -  0.0092\n",
      "{10: 4.605220188488258, 20: 4.605220188488314, 30: 4.605220188488314, 40: 4.605220188488258, 50: 4.605220188488258, 60: 4.605220188488314, 70: 4.605220188488314, 80: 4.605220188488258, 90: 4.605220188488314, 100: 4.605220188488314}\n",
      "АЛЬФА -  0.0093\n",
      "{10: 4.605220188488258, 20: 4.605220188488314, 30: 4.605220188488314, 40: 4.605220188488258, 50: 4.605220188488258, 60: 4.605220188488314, 70: 4.605220188488314, 80: 4.605220188488258, 90: 4.605220188488314, 100: 4.605220188488314}\n",
      "АЛЬФА -  0.0094\n",
      "{10: 4.605220188488258, 20: 4.605220188488314, 30: 4.605220188488314, 40: 4.605220188488258, 50: 4.605220188488258, 60: 4.605220188488314, 70: 4.605220188488314, 80: 4.605220188488258, 90: 4.605220188488314, 100: 4.605220188488314}\n",
      "АЛЬФА -  0.0095\n",
      "{10: 4.605220188488258, 20: 4.605220188488314, 30: 4.605220188488314, 40: 4.605220188488258, 50: 4.605220188488258, 60: 4.605220188488314, 70: 4.605220188488314, 80: 4.605220188488258, 90: 4.605220188488314, 100: 4.605220188488314}\n",
      "АЛЬФА -  0.0096\n",
      "{10: 4.605220188488258, 20: 4.605220188488314, 30: 4.605220188488314, 40: 4.605220188488258, 50: 4.605220188488258, 60: 4.605220188488314, 70: 4.605220188488314, 80: 4.605220188488258, 90: 4.605220188488314, 100: 4.605220188488314}\n",
      "АЛЬФА -  0.0097\n",
      "{10: 4.605220188488258, 20: 4.605220188488314, 30: 4.605220188488314, 40: 4.605220188488258, 50: 4.605220188488258, 60: 4.605220188488314, 70: 4.605220188488314, 80: 4.605220188488258, 90: 4.605220188488314, 100: 4.605220188488314}\n",
      "АЛЬФА -  0.0098\n",
      "{10: 4.605220188488258, 20: 4.605220188488314, 30: 4.605220188488314, 40: 4.605220188488258, 50: 4.605220188488258, 60: 4.605220188488314, 70: 4.605220188488314, 80: 4.605220188488258, 90: 4.605220188488314, 100: 4.605220188488314}\n",
      "АЛЬФА -  0.009899999999999999\n",
      "{10: 4.605220188488258, 20: 4.605220188488314, 30: 4.605220188488314, 40: 4.605220188488258, 50: 4.605220188488258, 60: 4.605220188488314, 70: 4.605220188488314, 80: 4.605220188488258, 90: 4.605220188488314, 100: 4.605220188488314}\n"
     ]
    }
   ],
   "source": [
    "alphas = np.arange(1e-4, 1e-2, 1e-4)\n",
    "\n",
    "for alpha in alphas:\n",
    "    print('АЛЬФА - ', alpha)\n",
    "    W, err_list = eval_model_2(X, y, 100, alpha)\n",
    "    print(err_list)"
   ]
  },
  {
   "cell_type": "markdown",
   "metadata": {},
   "source": [
    "\n",
    "АЛЬФА -  0.005\n",
    "20 итерация : 0.0,"
   ]
  },
  {
   "cell_type": "code",
   "execution_count": 200,
   "metadata": {},
   "outputs": [],
   "source": [
    "def eval_model_3(X, y, iterations, alpha=1e-4):\n",
    "    np.random.seed(42)\n",
    "    W = np.random.randn(X.shape[0])\n",
    "    n = X.shape[1]\n",
    "    for i in range(1, iterations+1):\n",
    "        z = np.dot(W, X)\n",
    "        y_pred = sigmoid(z)\n",
    "        err = calc_logloss_4(y, y_pred)\n",
    "        W -= alpha * (1/n * np.dot((y_pred - y), X.T))\n",
    "        if i % (iterations / 10) == 0:\n",
    "            print(f'\\tитерация - {i}\\n\\tвеса - {W}\\n\\tошибка - {err}')       \n",
    "    return W"
   ]
  },
  {
   "cell_type": "code",
   "execution_count": 201,
   "metadata": {},
   "outputs": [
    {
     "name": "stdout",
     "output_type": "stream",
     "text": [
      "АЛЬФА -  0.0001\n",
      "\tитерация - 10\n",
      "\tвеса - [ 0.49621415 -0.1399643   0.18768854  1.52232986]\n",
      "\tошибка - 4.605220188488314\n",
      "\tитерация - 20\n",
      "\tвеса - [ 0.49601522 -0.14076209  0.02079394  1.52214096]\n",
      "\tошибка - 4.605220188488258\n",
      "\tитерация - 30\n",
      "\tвеса - [ 0.49599201 -0.14100143  0.03290748  1.52225969]\n",
      "\tошибка - 1.095896023553595\n",
      "\tитерация - 40\n",
      "\tвеса - [ 0.4959616  -0.14125116  0.04100304  1.52236992]\n",
      "\tошибка - 2.2677993084247836\n",
      "\tитерация - 50\n",
      "\tвеса - [ 0.49591379 -0.14152842  0.03839007  1.52245781]\n",
      "\tошибка - 1.5684748329774734\n",
      "\tитерация - 60\n",
      "\tвеса - [ 0.49586759 -0.14180411  0.03634147  1.52254716]\n",
      "\tошибка - 1.3356515644399312\n",
      "\tитерация - 70\n",
      "\tвеса - [ 0.49583107 -0.14206272  0.04097568  1.52265001]\n",
      "\tошибка - 2.2491276481764615\n",
      "\tитерация - 80\n",
      "\tвеса - [ 0.49578098 -0.14234415  0.03668826  1.52273456]\n",
      "\tошибка - 1.3681553672626143\n",
      "\tитерация - 90\n",
      "\tвеса - [ 0.49573935 -0.14261192  0.03771909  1.52283015]\n",
      "\tошибка - 1.4797546793098797\n",
      "\tитерация - 100\n",
      "\tвеса - [ 0.49569026 -0.14289511  0.03266038  1.52291399]\n",
      "\tошибка - 1.082463834863993\n",
      "[ 0.49569026 -0.14289511  0.03266038  1.52291399]\n",
      "АЛЬФА -  0.00030000000000000003\n",
      "\tитерация - 10\n",
      "\tвеса - [ 0.49610809 -0.14067267  0.1419396   1.52245301]\n",
      "\tошибка - 3.0723382159453942\n",
      "\tитерация - 20\n",
      "\tвеса - [ 0.49581076 -0.1421671  -0.06654658  1.52239578]\n",
      "\tошибка - 4.605220188488314\n",
      "\tитерация - 30\n",
      "\tвеса - [ 0.49585037 -0.1426636   0.04793898  1.52289883]\n",
      "\tошибка - 4.605220188488258\n",
      "\tитерация - 40\n",
      "\tвеса - [ 0.49585037 -0.1432636   0.13043659  1.52334882]\n",
      "\tошибка - 4.579435663680398\n",
      "\tитерация - 50\n",
      "\tвеса - [ 0.49555476 -0.14474292 -0.07509607  1.52329323]\n",
      "\tошибка - 4.605220188488314\n",
      "\tитерация - 60\n",
      "\tвеса - [ 0.49554802 -0.14535226  0.00377273  1.52373558]\n",
      "\tошибка - 4.605220188488314\n",
      "\tитерация - 70\n",
      "\tвеса - [ 0.49555098 -0.14594605  0.08795394  1.52418864]\n",
      "\tошибка - 4.605220188488258\n",
      "\tитерация - 80\n",
      "\tвеса - [ 0.49529087 -0.14734091 -0.08973926  1.52418221]\n",
      "\tошибка - 4.605220188488314\n",
      "\tитерация - 90\n",
      "\tвеса - [ 0.49529086 -0.14794092 -0.00724202  1.52463221]\n",
      "\tошибка - 4.605220188488314\n",
      "\tитерация - 100\n",
      "\tвеса - [ 0.49531757 -0.14844684  0.10188602  1.52512178]\n",
      "\tошибка - 4.605220188488258\n",
      "[ 0.49531757 -0.14844684  0.10188602  1.52512178]\n",
      "АЛЬФА -  0.0005000000000000001\n",
      "\tитерация - 10\n",
      "\tвеса - [ 0.49571354 -0.142265   -0.19010873  1.52207922]\n",
      "\tошибка - 4.605220188488314\n",
      "\tитерация - 20\n",
      "\tвеса - [ 0.49571354 -0.143265   -0.05260873  1.52282922]\n",
      "\tошибка - 4.605220188488314\n",
      "\tитерация - 30\n",
      "\tвеса - [ 0.49572425 -0.14424225  0.09126434  1.52359055]\n",
      "\tошибка - 4.605220188488258\n",
      "\tитерация - 40\n",
      "\tвеса - [ 0.49572425 -0.14524225  0.22876389  1.52434055]\n",
      "\tошибка - 4.605220188488258\n",
      "\tитерация - 50\n",
      "\tвеса - [ 0.4953277  -0.14742218 -0.02535428  1.52439699]\n",
      "\tошибка - 4.605220188488314\n",
      "\tитерация - 60\n",
      "\tвеса - [ 0.49534011 -0.1483956   0.11960881  1.5251602 ]\n",
      "\tошибка - 4.605220188488258\n",
      "\tитерация - 70\n",
      "\tвеса - [ 0.49489794 -0.15074965 -0.18555024  1.52513508]\n",
      "\tошибка - 1.0062823294421697\n",
      "\tитерация - 80\n",
      "\tвеса - [ 0.49489794 -0.15174965 -0.04805024  1.52588508]\n",
      "\tошибка - 4.605220188488314\n",
      "\tитерация - 90\n",
      "\tвеса - [ 0.4948988  -0.15274792  0.08990755  1.52663594]\n",
      "\tошибка - 4.605220188488258\n",
      "\tитерация - 100\n",
      "\tвеса - [ 0.4948988  -0.15374793  0.22740731  1.52738594]\n",
      "\tошибка - 4.605220188488258\n",
      "[ 0.4948988  -0.15374793  0.22740731  1.52738594]\n",
      "АЛЬФА -  0.0007000000000000001\n",
      "\tитерация - 10\n",
      "\tвеса - [ 0.49602132 -0.14174934  0.16177364  1.52289728]\n",
      "\tошибка - 4.605220188488258\n",
      "\tитерация - 20\n",
      "\tвеса - [ 0.49595353 -0.14325563  0.31291086  1.52386126]\n",
      "\tошибка - 1.7306827636308522\n",
      "\tитерация - 30\n",
      "\tвеса - [ 0.49523775 -0.14677753 -0.18560259  1.52370333]\n",
      "\tошибка - 4.605220188488314\n",
      "\tитерация - 40\n",
      "\tвеса - [ 0.49523775 -0.14817753  0.00689724  1.52475333]\n",
      "\tошибка - 4.605220188488314\n",
      "\tитерация - 50\n",
      "\tвеса - [ 0.49523902 -0.14957504  0.20007379  1.52580462]\n",
      "\tошибка - 4.605220188488258\n",
      "\tитерация - 60\n",
      "\tвеса - [ 0.49502751 -0.15133137  0.25236149  1.52656929]\n",
      "\tошибка - 1.0537191391316\n",
      "\tитерация - 70\n",
      "\tвеса - [ 0.49432851 -0.15482942 -0.23710855  1.5264303 ]\n",
      "\tошибка - 4.605220188488314\n",
      "\tитерация - 80\n",
      "\tвеса - [ 0.49432851 -0.15622942 -0.04460855  1.5274803 ]\n",
      "\tошибка - 4.605220188488314\n",
      "\tитерация - 90\n",
      "\tвеса - [ 0.49425209 -0.15774722  0.10154506  1.52843393]\n",
      "\tошибка - 4.605220188488258\n",
      "\tитерация - 100\n",
      "\tвеса - [ 0.49425209 -0.15914722  0.29404506  1.52948393]\n",
      "\tошибка - 4.605220188488258\n",
      "[ 0.49425209 -0.15914722  0.29404506  1.52948393]\n",
      "АЛЬФА -  0.0009000000000000002\n",
      "\tитерация - 10\n",
      "\tвеса - [ 0.49581415 -0.1427643   0.01768834  1.52284986]\n",
      "\tошибка - 4.605220188488314\n",
      "\tитерация - 20\n",
      "\tвеса - [ 0.49581416 -0.14456429  0.26519191  1.52419986]\n",
      "\tошибка - 4.605220188488258\n",
      "\tитерация - 30\n",
      "\tвеса - [ 0.49501212 -0.14882242 -0.29017632  1.52414481]\n",
      "\tошибка - 4.605220188488314\n",
      "\tитерация - 40\n",
      "\tвеса - [ 0.49501212 -0.15062242 -0.04267632  1.52549481]\n",
      "\tошибка - 4.605220188488314\n",
      "\tитерация - 50\n",
      "\tвеса - [ 0.49501383 -0.15241905  0.2057338   1.52684654]\n",
      "\tошибка - 4.605220188488258\n",
      "\tитерация - 60\n",
      "\tвеса - [ 0.49500275 -0.15423369  0.44745429  1.52818435]\n",
      "\tошибка - 3.278900135889014\n",
      "\tитерация - 70\n",
      "\tвеса - [ 0.49410275 -0.15873369 -0.18254571  1.52800435]\n",
      "\tошибка - 4.605220188488314\n",
      "\tитерация - 80\n",
      "\tвеса - [ 0.49410277 -0.16053366  0.06496505  1.52935437]\n",
      "\tошибка - 4.605220188488258\n",
      "\tитерация - 90\n",
      "\tвеса - [ 0.49410277 -0.16233366  0.31246505  1.53070437]\n",
      "\tошибка - 4.605220188488258\n",
      "\tитерация - 100\n",
      "\tвеса - [ 0.49362205 -0.16526854  0.14093678  1.53127118]\n",
      "\tошибка - 4.605220188488258\n",
      "[ 0.49362205 -0.16526854  0.14093678  1.53127118]\n"
     ]
    },
    {
     "name": "stderr",
     "output_type": "stream",
     "text": [
      "C:\\Users\\user\\AppData\\Local\\Temp\\ipykernel_13148\\2870899410.py:2: RuntimeWarning: overflow encountered in exp\n",
      "  res = 1 / (1 + np.exp(-z))\n"
     ]
    }
   ],
   "source": [
    "alphas = np.arange(1e-4, 1e-3, 2e-4)\n",
    "\n",
    "for alpha in alphas:\n",
    "    print('АЛЬФА - ', alpha)\n",
    "    print(eval_model_3(X, y, 100, alpha))"
   ]
  },
  {
   "cell_type": "markdown",
   "metadata": {},
   "source": [
    "### 3. Создайте функцию calc_pred_proba, возвращающую предсказанную вероятность класса 1. На вход подаётся W, который уже посчитан функцией eval_model, и X, на выходе — массив y_pred_proba.\n"
   ]
  },
  {
   "cell_type": "code",
   "execution_count": 205,
   "metadata": {},
   "outputs": [],
   "source": [
    "def calc_pred_proba(W, X):\n",
    "    z = np.dot(W,X)\n",
    "    return 1/(1 + np.exp(-z))"
   ]
  },
  {
   "cell_type": "code",
   "execution_count": 208,
   "metadata": {},
   "outputs": [
    {
     "name": "stdout",
     "output_type": "stream",
     "text": [
      "\tитерация - 100\n",
      "\tвеса - [ 0.03974726 -0.72084915  0.85979196  1.32730411]\n",
      "\tошибка - 0.4911008591607124\n",
      "\tитерация - 200\n",
      "\tвеса - [-0.16727141 -0.75381664  0.95270915  1.46373569]\n",
      "\tошибка - 0.47653925060904534\n",
      "\tитерация - 300\n",
      "\tвеса - [-0.33573187 -0.79030581  0.98305628  1.61023041]\n",
      "\tошибка - 0.46607452146734163\n",
      "\tитерация - 400\n",
      "\tвеса - [-0.49178756 -0.82131635  0.98698851  1.74755544]\n",
      "\tошибка - 0.45721803762763047\n",
      "\tитерация - 500\n",
      "\tвеса - [-0.64199475 -0.84624733  0.9762585   1.87356706]\n",
      "\tошибка - 0.44937113989431854\n",
      "\tитерация - 600\n",
      "\tвеса - [-0.78810461 -0.86605551  0.95587696  1.98958492]\n",
      "\tошибка - 0.44224028573981355\n",
      "\tитерация - 700\n",
      "\tвеса - [-0.93066406 -0.88178919  0.92863523  2.09729798]\n",
      "\tошибка - 0.4356517806564085\n",
      "\tитерация - 800\n",
      "\tвеса - [-1.06990258 -0.89432186  0.8963837   2.19815938]\n",
      "\tошибка - 0.42949606132400825\n",
      "\tитерация - 900\n",
      "\tвеса - [-1.20595847 -0.90434213  0.860462    2.29333014]\n",
      "\tошибка - 0.4237008200431848\n",
      "\tитерация - 1000\n",
      "\tвеса - [-1.33893968 -0.91238816  0.82188129  2.38372667]\n",
      "\tошибка - 0.4182162832904604\n"
     ]
    }
   ],
   "source": [
    "W = eval_model_3(X_st, y, iterations=1000, alpha=0.05)"
   ]
  },
  {
   "cell_type": "code",
   "execution_count": 209,
   "metadata": {},
   "outputs": [
    {
     "data": {
      "text/plain": [
       "array([0.33789083, 0.41733688, 0.77248056, 0.01547758, 0.81704525,\n",
       "       0.67877957, 0.89474512, 0.17160336, 0.31919893, 0.8383648 ])"
      ]
     },
     "execution_count": 209,
     "metadata": {},
     "output_type": "execute_result"
    }
   ],
   "source": [
    "calc_pred_proba(W, X_st)"
   ]
  },
  {
   "cell_type": "markdown",
   "metadata": {},
   "source": [
    "### 4. Создайте функцию calc_pred, возвращающую предсказанный класс. На вход подаётся W, который уже посчитан функцией eval_model, и X, на выходе — массив y_pred."
   ]
  },
  {
   "cell_type": "code",
   "execution_count": 210,
   "metadata": {},
   "outputs": [],
   "source": [
    "def calc_pred(W, X, treshold = 0.5):\n",
    "    y_pred = calc_pred_proba(W, X)\n",
    "    y_pred = np.where(y_pred > treshold, 1, 0 )\n",
    "    return y_pred"
   ]
  },
  {
   "cell_type": "code",
   "execution_count": 211,
   "metadata": {},
   "outputs": [
    {
     "data": {
      "text/plain": [
       "array([0, 0, 1, 0, 1, 1, 1, 0, 0, 1])"
      ]
     },
     "execution_count": 211,
     "metadata": {},
     "output_type": "execute_result"
    }
   ],
   "source": [
    "y_pred = calc_pred(W, X_st)\n",
    "y_pred"
   ]
  },
  {
   "cell_type": "markdown",
   "metadata": {},
   "source": [
    "### 5 Посчитайте Accuracy, матрицу ошибок, точность и полноту, а также F1 score."
   ]
  },
  {
   "cell_type": "code",
   "execution_count": 212,
   "metadata": {},
   "outputs": [
    {
     "data": {
      "text/plain": [
       "0.5"
      ]
     },
     "execution_count": 212,
     "metadata": {},
     "output_type": "execute_result"
    }
   ],
   "source": [
    "accuracy = np.sum(y_pred)/y_pred.shape[0] # точность - сумма всех верных положительных и всех верных отрицательных \n",
    "#класификаций деленная на все класификации OSR (Acuracuty )=(TP+TN)/(TP+TN+FP+FN)\n",
    "accuracy"
   ]
  },
  {
   "cell_type": "code",
   "execution_count": 235,
   "metadata": {
    "scrolled": true
   },
   "outputs": [
    {
     "data": {
      "text/plain": [
       "(array([0., 0., 1., 0., 1., 1., 1., 0., 0., 1.], dtype=float32),\n",
       " array([0., 0., 1., 0., 1., 0., 1., 0., 1., 1.]))"
      ]
     },
     "execution_count": 235,
     "metadata": {},
     "output_type": "execute_result"
    }
   ],
   "source": [
    "y_pred = y_pred.astype(np.float32)\n",
    "y_pred, y"
   ]
  },
  {
   "cell_type": "code",
   "execution_count": 250,
   "metadata": {},
   "outputs": [],
   "source": [
    "def conf_matrix_for_binar_classification(y, y_pred):\n",
    "    true_positive = 0\n",
    "    false_positive = 0\n",
    "    false_negtive = 0\n",
    "    true_negative = 0 # 0 отрицательный класс 1 положительный \n",
    "    for i in range(len(y)):\n",
    "        if y_pred[i] == y[i] and y_pred[i] == 1:\n",
    "            true_positive +=1\n",
    "        elif y_pred[i] == y[i] and y_pred[i] == 0:\n",
    "            true_negative +=1\n",
    "        elif y_pred[i] != y[i] and y_pred[i] == 1:\n",
    "            false_positive +=1\n",
    "        else:\n",
    "             false_negtive += 1\n",
    "    return np.array([\n",
    "        [true_positive, false_negtive],\n",
    "        [false_positive, true_negative]\n",
    "    ])\n",
    "\n"
   ]
  },
  {
   "cell_type": "code",
   "execution_count": 251,
   "metadata": {
    "scrolled": true
   },
   "outputs": [
    {
     "data": {
      "text/plain": [
       "array([[4, 1],\n",
       "       [1, 4]])"
      ]
     },
     "execution_count": 251,
     "metadata": {},
     "output_type": "execute_result"
    }
   ],
   "source": [
    "conf_matrix = conf_matrix_for_binar_classification(y, y_pred)\n",
    "conf_matrix"
   ]
  },
  {
   "cell_type": "code",
   "execution_count": 248,
   "metadata": {},
   "outputs": [
    {
     "data": {
      "text/plain": [
       "0.8"
      ]
     },
     "execution_count": 248,
     "metadata": {},
     "output_type": "execute_result"
    }
   ],
   "source": [
    "precition = conf_matrix[0,0]/(conf_matrix[1,1] + conf_matrix[0,1]) # прецезионность Precision= TP/(TP+FP)\n",
    "\n"
   ]
  },
  {
   "cell_type": "code",
   "execution_count": 284,
   "metadata": {},
   "outputs": [
    {
     "data": {
      "text/plain": [
       "0.8"
      ]
     },
     "execution_count": 284,
     "metadata": {},
     "output_type": "execute_result"
    }
   ],
   "source": [
    "recall = conf_matrix[0,0]/(conf_matrix[1,1] + conf_matrix[1,0]) # полнота специфичность TP/(TP+FN)\n",
    "recall\n",
    "\n",
    "\n"
   ]
  },
  {
   "cell_type": "code",
   "execution_count": 285,
   "metadata": {},
   "outputs": [
    {
     "data": {
      "text/plain": [
       "0.8"
      ]
     },
     "execution_count": 285,
     "metadata": {},
     "output_type": "execute_result"
    }
   ],
   "source": [
    "F_1 = 2 * precition * recall / (precition + recall)\n",
    "round(F_1,2)"
   ]
  },
  {
   "cell_type": "markdown",
   "metadata": {},
   "source": [
    "#### Мы расчитывали точность и полноту для 1 класа (положительного),  метрики совпадуут и для  0 класа (отрицательного)"
   ]
  },
  {
   "cell_type": "markdown",
   "metadata": {},
   "source": [
    "### 6. Могла ли модель переобучиться? Почему?"
   ]
  },
  {
   "cell_type": "markdown",
   "metadata": {},
   "source": [
    "Да могла. если размер тест выборки маленький, выбры в данных, существенная кореляция признаков между собой  могло поспособствовать переобучению модели."
   ]
  }
 ],
 "metadata": {
  "colab": {
   "collapsed_sections": [],
   "name": "Lesson_3_script.ipynb",
   "provenance": []
  },
  "kernelspec": {
   "display_name": "Python 3 (ipykernel)",
   "language": "python",
   "name": "python3"
  },
  "language_info": {
   "codemirror_mode": {
    "name": "ipython",
    "version": 3
   },
   "file_extension": ".py",
   "mimetype": "text/x-python",
   "name": "python",
   "nbconvert_exporter": "python",
   "pygments_lexer": "ipython3",
   "version": "3.9.13"
  }
 },
 "nbformat": 4,
 "nbformat_minor": 1
}
